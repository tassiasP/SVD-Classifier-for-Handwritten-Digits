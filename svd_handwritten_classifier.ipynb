{
 "cells": [
  {
   "cell_type": "code",
   "execution_count": 1,
   "metadata": {},
   "outputs": [
    {
     "name": "stderr",
     "output_type": "stream",
     "text": [
      "C:\\Users\\Panos\\Anaconda3\\envs\\python37_full\\lib\\site-packages\\sklearn\\utils\\fixes.py:313: FutureWarning: numpy not_equal will not check object identity in the future. The comparison did not return the same result as suggested by the identity (`is`)) and will change.\n",
      "  _nan_object_mask = _nan_object_array != _nan_object_array\n"
     ]
    }
   ],
   "source": [
    "import pandas as pd\n",
    "import numpy as np\n",
    "from scipy.linalg import svd, norm\n",
    "\n",
    "import matplotlib.pyplot as plt\n",
    "\n",
    "from sklearn.metrics import accuracy_score, confusion_matrix, classification_report, f1_score"
   ]
  },
  {
   "cell_type": "code",
   "execution_count": 2,
   "metadata": {},
   "outputs": [],
   "source": [
    "filename = \"data.xlsx\"\n",
    "\n",
    "X_train = pd.read_excel(filename, sheet_name=\"azip\", header=None)\n",
    "y_train = pd.read_excel(filename, sheet_name=\"dzip\", header=None)\n",
    "X_test = pd.read_excel(filename, sheet_name=\"testzip\", header=None)\n",
    "y_test = pd.read_excel(filename, sheet_name=\"dtest\", header=None)\n",
    "\n",
    "X_train, y_train = np.array(X_train), np.array(y_train)\n",
    "X_test, y_test = np.array(X_test).T, np.array(y_test).T"
   ]
  },
  {
   "cell_type": "code",
   "execution_count": 3,
   "metadata": {},
   "outputs": [
    {
     "data": {
      "text/plain": [
       "((256, 1707), (1, 1707), (2007, 256), (2007, 1))"
      ]
     },
     "execution_count": 3,
     "metadata": {},
     "output_type": "execute_result"
    }
   ],
   "source": [
    "X_train.shape, y_train.shape, X_test.shape, y_test.shape"
   ]
  },
  {
   "cell_type": "markdown",
   "metadata": {},
   "source": [
    "Below we define the Svd_Classifier Class, which contains the main functionalities needed."
   ]
  },
  {
   "cell_type": "code",
   "execution_count": 4,
   "metadata": {},
   "outputs": [],
   "source": [
    "class Svd_Classifier():\n",
    "    \n",
    "    def init(self):\n",
    "        # The truncated U matrix for each digit\n",
    "        self.U = {}\n",
    "        # The truncated S vector for each digit\n",
    "        self.S = {}\n",
    "        # The optimal number of basis vectors in terms of accuracy (to be tuned)\n",
    "        self.best_num_of_bv = 5\n",
    "\n",
    "    \n",
    "    def split_training_set_per_digit(self, X_train, y_train):\n",
    "        train = {digit: X_train[:, np.where(y_train==digit)[1]] for digit in range(10)}\n",
    "        return train\n",
    "    \n",
    "    \n",
    "    def fit_svd(self, X, n_components, trunc_level={}):\n",
    "        '''\n",
    "        param trunc_level is a dictionary used for the 3rd Task where \n",
    "        we truncate further the singular vector of digit 1 \n",
    "        '''\n",
    "        Uk_matrices, Sk_vectors = {}, {}\n",
    "\n",
    "        for digit in range(10):\n",
    "                \n",
    "            # Here we only store the first n_components of the U and S matrices\n",
    "            U, S, _ = svd(train[digit], check_finite=False)\n",
    "            Uk_matrices[digit] = U[:, :n_components] if digit not in trunc_level.keys() else U[:, :trunc_level[digit]]\n",
    "            Sk_vectors[digit] = S[:n_components] if digit not in trunc_level.keys() else U[:, :trunc_level[digit]]\n",
    "\n",
    "        self.U = Uk_matrices\n",
    "        self.S = Sk_vectors\n",
    "    \n",
    "    \n",
    "    def norm_of_resid_vector_ls(self, digit, test_example, use_one_sing_vec=False):\n",
    "        '''\n",
    "        the norm of the relative residual vector of the LS problem\n",
    "        param use_one_sing_vec is used for the optional task; if True we \n",
    "        calculate the norm with regards to only the first singular vector\n",
    "        '''\n",
    "        if use_one_sing_vec:\n",
    "            return norm((np.identity(256) - (self.U[digit][:, 0].reshape(-1, 1) @ \\\n",
    "                    self.U[digit][:, 0].reshape(-1, 1).T)) @ test_example) / norm(test_example)\n",
    "        else:    \n",
    "            return norm((np.identity(256) - (self.U[digit] @ self.U[digit].T)) @ test_example) / norm(test_example)\n",
    "    \n",
    "    \n",
    "    def predict(self, X_test, two_stage=False, thres_for_two_stage=0.1):\n",
    "        '''\n",
    "        param two_stage is used for the optional task; if True we compare only\n",
    "        the first singular vector of each class at first and if the difference\n",
    "        is smaller than a threshold, we continue as in the case of one-stage\n",
    "        predictions, else we classify as that class giving the smallest residual\n",
    "        '''\n",
    "        if two_stage:\n",
    "            count = 0\n",
    "        preds = []\n",
    "        \n",
    "        for test_example in X_test:\n",
    "            norms = {}\n",
    "            \n",
    "            if two_stage:\n",
    "                for digit in range(10):\n",
    "                    norms[digit] = self.norm_of_resid_vector_ls(digit, test_example, use_one_sing_vec=True)\n",
    "                \n",
    "                sorted_norms = sorted(norms.items(), key=lambda v: v[1])\n",
    "                if sorted_norms[1][1] - sorted_norms[0][1] > thres_for_two_stage:\n",
    "                    preds.append(sorted_norms[0][0])\n",
    "                    count += 1\n",
    "                    continue\n",
    "                else:\n",
    "                    for digit in range(10):\n",
    "                        norms[digit] = self.norm_of_resid_vector_ls(digit, test_example)\n",
    "                \n",
    "                    preds.append(min(norms, key=lambda x: norms[x]))\n",
    "                \n",
    "            else:\n",
    "                for digit in range(10):\n",
    "                    norms[digit] = self.norm_of_resid_vector_ls(digit, test_example)\n",
    "                \n",
    "                preds.append(min(norms, key=lambda x: norms[x]))\n",
    "        \n",
    "        if two_stage:\n",
    "            print(\"For threshold={}, the second stage was unnecessary {:.0f} % of the time.\" \\\n",
    "                  .format(thres_for_two_stage, count/len(X_test)*100))\n",
    "        \n",
    "        return preds\n",
    "    \n",
    "    \n",
    "    def tune(self, train, X_test, y_test, min_basis_vec, max_basis_vec, autofit=True, trunc_level={}):\n",
    "        '''\n",
    "        param trunc_level is a dictionary used for the 3rd Task where \n",
    "        we truncate further the singular vector of digit 1 \n",
    "        \n",
    "        param autofit is used to fit the model according to the optimal number\n",
    "        of basis vectors after the tuning is complete\n",
    "        '''\n",
    "        acc_scores = {}\n",
    "        \n",
    "        for basis_vector in range(min_basis_vec, max_basis_vec + 1):\n",
    "            self.fit_svd(train, basis_vector, trunc_level)\n",
    "            \n",
    "            preds = self.predict(X_test)\n",
    "            acc = accuracy_score(y_true=y_test, y_pred=preds)\n",
    "            acc_scores[basis_vector] = acc\n",
    "            \n",
    "        self.best_num_of_bv = max(acc_scores, key=lambda x: acc_scores[x])\n",
    "        \n",
    "        if autofit:\n",
    "            self.fit_svd(train, self.best_num_of_bv, trunc_level)\n",
    "        \n",
    "        return acc_scores\n",
    "    \n",
    "    \n",
    "    def plot_tuning_results(self, acc_scores):\n",
    "        plt.figure(figsize=(14, 7))\n",
    "        plt.xlabel(\"# of Basis Vectors\")\n",
    "        plt.ylabel(\"Accuracy\")\n",
    "        _ = plt.plot(list(acc_scores.keys()), list(acc_scores.values()), marker='x')\n"
   ]
  },
  {
   "cell_type": "markdown",
   "metadata": {},
   "source": [
    "## Task 1"
   ]
  },
  {
   "cell_type": "code",
   "execution_count": 5,
   "metadata": {
    "scrolled": false
   },
   "outputs": [
    {
     "data": {
      "image/png": "[encoded data removed]",
      "text/plain": [
       "<Figure size 1008x504 with 1 Axes>"
      ]
     },
     "metadata": {
      "needs_background": "light"
     },
     "output_type": "display_data"
    }
   ],
   "source": [
    "svd_clf = Svd_Classifier()\n",
    "\n",
    "train = svd_clf.split_training_set_per_digit(X_train, y_train)\n",
    "\n",
    "acc_scores = svd_clf.tune(train, X_test, y_test, 5, 20)\n",
    "\n",
    "svd_clf.plot_tuning_results(acc_scores)"
   ]
  },
  {
   "cell_type": "code",
   "execution_count": 6,
   "metadata": {},
   "outputs": [
    {
     "data": {
      "text/html": [
       "<div>\n",
       "<style scoped>\n",
       "    .dataframe tbody tr th:only-of-type {\n",
       "        vertical-align: middle;\n",
       "    }\n",
       "\n",
       "    .dataframe tbody tr th {\n",
       "        vertical-align: top;\n",
       "    }\n",
       "\n",
       "    .dataframe thead th {\n",
       "        text-align: right;\n",
       "    }\n",
       "</style>\n",
       "<table border=\"1\" class=\"dataframe\">\n",
       "  <thead>\n",
       "    <tr style=\"text-align: right;\">\n",
       "      <th></th>\n",
       "      <th># of Basis Vectors</th>\n",
       "      <th>Accuracy</th>\n",
       "    </tr>\n",
       "  </thead>\n",
       "  <tbody>\n",
       "    <tr>\n",
       "      <th>0</th>\n",
       "      <td>5</td>\n",
       "      <td>0.902840</td>\n",
       "    </tr>\n",
       "    <tr>\n",
       "      <th>1</th>\n",
       "      <td>6</td>\n",
       "      <td>0.905331</td>\n",
       "    </tr>\n",
       "    <tr>\n",
       "      <th>2</th>\n",
       "      <td>7</td>\n",
       "      <td>0.916791</td>\n",
       "    </tr>\n",
       "    <tr>\n",
       "      <th>3</th>\n",
       "      <td>8</td>\n",
       "      <td>0.920279</td>\n",
       "    </tr>\n",
       "    <tr>\n",
       "      <th>4</th>\n",
       "      <td>9</td>\n",
       "      <td>0.926258</td>\n",
       "    </tr>\n",
       "    <tr>\n",
       "      <th>5</th>\n",
       "      <td>10</td>\n",
       "      <td>0.931739</td>\n",
       "    </tr>\n",
       "    <tr>\n",
       "      <th>6</th>\n",
       "      <td>11</td>\n",
       "      <td>0.932237</td>\n",
       "    </tr>\n",
       "    <tr>\n",
       "      <th>7</th>\n",
       "      <td>12</td>\n",
       "      <td>0.935725</td>\n",
       "    </tr>\n",
       "    <tr>\n",
       "      <th>8</th>\n",
       "      <td>13</td>\n",
       "      <td>0.936223</td>\n",
       "    </tr>\n",
       "    <tr>\n",
       "      <th>9</th>\n",
       "      <td>14</td>\n",
       "      <td>0.939213</td>\n",
       "    </tr>\n",
       "    <tr>\n",
       "      <th>10</th>\n",
       "      <td>15</td>\n",
       "      <td>0.941206</td>\n",
       "    </tr>\n",
       "    <tr>\n",
       "      <th>11</th>\n",
       "      <td>16</td>\n",
       "      <td>0.938714</td>\n",
       "    </tr>\n",
       "    <tr>\n",
       "      <th>12</th>\n",
       "      <td>17</td>\n",
       "      <td>0.939213</td>\n",
       "    </tr>\n",
       "    <tr>\n",
       "      <th>13</th>\n",
       "      <td>18</td>\n",
       "      <td>0.941704</td>\n",
       "    </tr>\n",
       "    <tr>\n",
       "      <th>14</th>\n",
       "      <td>19</td>\n",
       "      <td>0.940708</td>\n",
       "    </tr>\n",
       "    <tr>\n",
       "      <th>15</th>\n",
       "      <td>20</td>\n",
       "      <td>0.939711</td>\n",
       "    </tr>\n",
       "  </tbody>\n",
       "</table>\n",
       "</div>"
      ],
      "text/plain": [
       "    # of Basis Vectors  Accuracy\n",
       "0                    5  0.902840\n",
       "1                    6  0.905331\n",
       "2                    7  0.916791\n",
       "3                    8  0.920279\n",
       "4                    9  0.926258\n",
       "5                   10  0.931739\n",
       "6                   11  0.932237\n",
       "7                   12  0.935725\n",
       "8                   13  0.936223\n",
       "9                   14  0.939213\n",
       "10                  15  0.941206\n",
       "11                  16  0.938714\n",
       "12                  17  0.939213\n",
       "13                  18  0.941704\n",
       "14                  19  0.940708\n",
       "15                  20  0.939711"
      ]
     },
     "execution_count": 6,
     "metadata": {},
     "output_type": "execute_result"
    }
   ],
   "source": [
    "pd.DataFrame(data=list(acc_scores.items()), columns=['# of Basis Vectors', 'Accuracy'])"
   ]
  },
  {
   "cell_type": "code",
   "execution_count": 7,
   "metadata": {},
   "outputs": [
    {
     "name": "stdout",
     "output_type": "stream",
     "text": [
      "Optimal number of Basis Vectors: 18, with Accuracy: 94%\n"
     ]
    }
   ],
   "source": [
    "print(\"Optimal number of Basis Vectors: {}, with Accuracy: {:.0f}%\" \\\n",
    "      .format(svd_clf.best_num_of_bv, acc_scores[svd_clf.best_num_of_bv] * 100))"
   ]
  },
  {
   "cell_type": "markdown",
   "metadata": {},
   "source": [
    "## Task 2"
   ]
  },
  {
   "cell_type": "code",
   "execution_count": 8,
   "metadata": {},
   "outputs": [],
   "source": [
    "preds = svd_clf.predict(X_test)"
   ]
  },
  {
   "cell_type": "code",
   "execution_count": 9,
   "metadata": {},
   "outputs": [
    {
     "name": "stdout",
     "output_type": "stream",
     "text": [
      "Confusion Matrix:\n",
      "\n",
      " [[355   0   2   0   1   0   0   0   0   1]\n",
      " [  0 259   0   0   3   0   2   0   0   0]\n",
      " [  8   1 178   2   5   0   0   1   3   0]\n",
      " [  2   0   3 150   1   6   0   1   2   1]\n",
      " [  2   1   0   0 185   2   0   3   0   7]\n",
      " [  7   1   1   5   0 141   0   0   2   3]\n",
      " [  2   1   0   0   2   1 163   0   1   0]\n",
      " [  0   1   1   0   3   0   0 141   0   1]\n",
      " [  2   0   1   6   0   1   0   0 153   3]\n",
      " [  0   2   0   1   4   0   0   3   2 165]]\n"
     ]
    }
   ],
   "source": [
    "print(\"Confusion Matrix:\\n\\n\", confusion_matrix(y_true=y_test, y_pred=preds))"
   ]
  },
  {
   "cell_type": "code",
   "execution_count": 10,
   "metadata": {},
   "outputs": [
    {
     "name": "stdout",
     "output_type": "stream",
     "text": [
      "Classification Report:\n",
      "\n",
      "               precision    recall  f1-score   support\n",
      "\n",
      "           0       0.94      0.99      0.96       359\n",
      "           1       0.97      0.98      0.98       264\n",
      "           2       0.96      0.90      0.93       198\n",
      "           3       0.91      0.90      0.91       166\n",
      "           4       0.91      0.93      0.92       200\n",
      "           5       0.93      0.88      0.91       160\n",
      "           6       0.99      0.96      0.97       170\n",
      "           7       0.95      0.96      0.95       147\n",
      "           8       0.94      0.92      0.93       166\n",
      "           9       0.91      0.93      0.92       177\n",
      "\n",
      "   micro avg       0.94      0.94      0.94      2007\n",
      "   macro avg       0.94      0.94      0.94      2007\n",
      "weighted avg       0.94      0.94      0.94      2007\n",
      "\n"
     ]
    }
   ],
   "source": [
    "print(\"Classification Report:\\n\\n\", classification_report(y_true=y_test, y_pred=preds))"
   ]
  },
  {
   "cell_type": "markdown",
   "metadata": {},
   "source": [
    "Below, we define a function which plots some misclassified examples, in order to observe if there were badly written. We utilize the `to_image()` function so as to be able to plot an image."
   ]
  },
  {
   "cell_type": "code",
   "execution_count": 24,
   "metadata": {},
   "outputs": [],
   "source": [
    "def to_image(X):\n",
    "    X = X.reshape(16, 16)\n",
    "    plt.imshow(X, cmap=\"gray\")\n",
    "\n",
    "def plot_misclassified_images(num=16):\n",
    "    '''\n",
    "    Note: num parameter should have an integer square root in order to\n",
    "    have the capability to plot the figures\n",
    "    '''\n",
    "    assert np.sqrt(num)**2 == num\n",
    "    \n",
    "    plt.figure(figsize=(12, 6))\n",
    "    \n",
    "    # Next we utilize np.where so as to get only the misclassified test examples\n",
    "    for i, ind in enumerate(np.where(y_test.reshape(-1,) != preds)[0][:num]):\n",
    "        plt.subplot(np.sqrt(num), np.sqrt(num), i+1)\n",
    "        to_image(X_test[ind])\n",
    "    plt.show()"
   ]
  },
  {
   "cell_type": "code",
   "execution_count": 25,
   "metadata": {},
   "outputs": [
    {
     "data": {
      "image/png": "[encoded data removed]",
      "text/plain": [
       "<Figure size 864x432 with 16 Axes>"
      ]
     },
     "metadata": {
      "needs_background": "light"
     },
     "output_type": "display_data"
    }
   ],
   "source": [
    "plot_misclassified_images()"
   ]
  },
  {
   "cell_type": "markdown",
   "metadata": {},
   "source": [
    "## Task 3"
   ]
  },
  {
   "cell_type": "code",
   "execution_count": 13,
   "metadata": {
    "scrolled": true
   },
   "outputs": [
    {
     "name": "stdout",
     "output_type": "stream",
     "text": [
      "Singular values of each class:\n"
     ]
    },
    {
     "data": {
      "text/plain": [
       "{0: array([ 184.44749844,   97.59388422,   62.05061337,   54.14931248,\n",
       "          41.06020067,   40.36847138,   36.28294233,   30.02308652,\n",
       "          29.00107349,   24.94954536,   23.14227656,   20.02945118,\n",
       "          19.87091668,   19.04653739,   18.36025675,   17.83522812,\n",
       "          17.52693996,   16.69341498]),\n",
       " 1: array([ 234.04151731,   41.9309063 ,   24.84924265,   16.29480667,\n",
       "          13.61095501,   12.52178131,   11.22883717,   10.66849318,\n",
       "           8.4133817 ,    8.32127045,    8.04023751,    7.48669722,\n",
       "           6.90909558,    6.21399546,    6.00426679,    5.49872067,\n",
       "           5.27581554,    4.90265713]),\n",
       " 2: array([ 138.2836996 ,   57.39739384,   46.39569635,   40.96003126,\n",
       "          37.50530652,   33.53160003,   32.237997  ,   28.40611951,\n",
       "          27.12012507,   26.73498766,   24.89808089,   23.4190788 ,\n",
       "          22.44295123,   21.43889759,   20.67736134,   19.33320057,\n",
       "          18.64401221,   18.28646122]),\n",
       " 3: array([ 126.63823606,   39.77367291,   33.32245701,   29.87372361,\n",
       "          27.9646299 ,   24.76781289,   24.39030584,   21.460863  ,\n",
       "          19.05978766,   18.59508072,   18.01063894,   16.34130891,\n",
       "          15.59966317,   14.78307595,   14.2437159 ,   13.9071694 ,\n",
       "          12.80725101,   11.92028515]),\n",
       " 4: array([ 123.02706507,   41.62602412,   34.93431159,   32.29075793,\n",
       "          26.81182829,   24.5655462 ,   21.86754262,   20.44929199,\n",
       "          20.08172813,   18.45554627,   16.7618669 ,   15.66229495,\n",
       "          14.77196798,   14.27847757,   13.71667208,   13.2181079 ,\n",
       "          12.92205453,   12.4765868 ]),\n",
       " 5: array([ 94.28412631,  37.85299086,  35.77494073,  28.02067178,\n",
       "         24.0466634 ,  22.43784723,  20.63123172,  20.36365239,\n",
       "         17.06151968,  16.81156101,  15.61171479,  15.10407956,\n",
       "         14.18886489,  13.1092703 ,  12.36935142,  11.6619146 ,\n",
       "         11.05978071,  10.8197813 ]),\n",
       " 6: array([ 141.95961664,   52.1946615 ,   37.96584617,   32.01451394,\n",
       "          26.28505545,   25.13724003,   21.2005021 ,   20.93588569,\n",
       "          19.34289072,   18.88883469,   16.4606179 ,   15.25617688,\n",
       "          14.63033477,   13.54880398,   12.92761065,   12.49850575,\n",
       "          11.9109601 ,   11.85366444]),\n",
       " 7: array([ 160.19698391,   46.71035896,   36.52512533,   34.68763686,\n",
       "          31.4956071 ,   22.46554732,   20.34818397,   19.1925414 ,\n",
       "          17.58541538,   16.78508287,   15.25070238,   14.38537935,\n",
       "          13.92952629,   12.97395593,   12.23826851,   11.18543256,\n",
       "          10.93918885,   10.46903721]),\n",
       " 8: array([ 133.06780611,   41.64353682,   34.45996324,   30.49563174,\n",
       "          28.71666418,   25.47900665,   22.6150183 ,   21.89173764,\n",
       "          20.91189761,   19.47011758,   17.7314614 ,   17.04183919,\n",
       "          16.279046  ,   15.64901046,   15.01378856,   14.06816368,\n",
       "          13.80837402,   13.56580073]),\n",
       " 9: array([ 141.22390944,   45.72512732,   30.05843737,   29.45708405,\n",
       "          22.93443324,   20.50031445,   18.80548273,   16.97604746,\n",
       "          15.2117038 ,   14.80121696,   13.8844125 ,   13.04719427,\n",
       "          12.52420023,   11.83352394,   11.75936977,   10.99780391,\n",
       "          10.24453044,    9.73067911])}"
      ]
     },
     "execution_count": 13,
     "metadata": {},
     "output_type": "execute_result"
    }
   ],
   "source": [
    "# Let's have a look at the singular values\n",
    "print(\"Singular values of each class:\")\n",
    "svd_clf.S"
   ]
  },
  {
   "cell_type": "code",
   "execution_count": 14,
   "metadata": {},
   "outputs": [
    {
     "name": "stdout",
     "output_type": "stream",
     "text": [
      "Difference of the first two singular values of each class (digit)\n",
      "\n",
      "0 : 86.8536142208\n",
      "1 : 192.110611015\n",
      "2 : 80.8863057574\n",
      "3 : 86.8645631412\n",
      "4 : 81.4010409504\n",
      "5 : 56.431135446\n",
      "6 : 89.7649551432\n",
      "7 : 113.486624945\n",
      "8 : 91.4242692859\n",
      "9 : 95.4987821212\n"
     ]
    }
   ],
   "source": [
    "print(\"Difference of the first two singular values of each class (digit)\\n\")\n",
    "\n",
    "for digit, S_vec in svd_clf.S.items():\n",
    "    print(digit, \":\", S_vec[0] - S_vec[1])"
   ]
  },
  {
   "cell_type": "code",
   "execution_count": 15,
   "metadata": {},
   "outputs": [],
   "source": [
    "svd_clf_2 = Svd_Classifier()\n",
    "\n",
    "f1_class_1 = {}\n",
    "\n",
    "for n_comp in range(5):\n",
    "    # The below code line dictates how many components we should keep\n",
    "    # for the representation of digit 1\n",
    "    trunc_level = {1: n_comp + 1}\n",
    "    _ = svd_clf_2.tune(train, X_test, y_test, 5, 20, trunc_level=trunc_level)\n",
    "    \n",
    "    f1_class_1[n_comp + 1] = f1_score(y_true=y_test, y_pred=svd_clf_2.predict(X_test), average=None, labels=[1])\n"
   ]
  },
  {
   "cell_type": "code",
   "execution_count": 16,
   "metadata": {},
   "outputs": [
    {
     "data": {
      "text/plain": [
       "{1: array([ 0.90946502]),\n",
       " 2: array([ 0.9484127]),\n",
       " 3: array([ 0.95874263]),\n",
       " 4: array([ 0.962818]),\n",
       " 5: array([ 0.96484375])}"
      ]
     },
     "execution_count": 16,
     "metadata": {},
     "output_type": "execute_result"
    }
   ],
   "source": [
    "# print the F1-Scores for the digit(class) 1 for each number of basis vectors kept\n",
    "f1_class_1"
   ]
  },
  {
   "cell_type": "code",
   "execution_count": 17,
   "metadata": {},
   "outputs": [],
   "source": [
    "# preds_2 = svd_clf_2.predict(X_test)\n",
    "\n",
    "# print(classification_report(y_true=y_test, y_pred=preds_2))"
   ]
  },
  {
   "cell_type": "code",
   "execution_count": 18,
   "metadata": {},
   "outputs": [],
   "source": [
    "# for d in svd_clf_2.U.keys():\n",
    "#     print(svd_clf_2.U[d].shape)"
   ]
  },
  {
   "cell_type": "code",
   "execution_count": 19,
   "metadata": {},
   "outputs": [
    {
     "data": {
      "text/plain": [
       "15"
      ]
     },
     "execution_count": 19,
     "metadata": {},
     "output_type": "execute_result"
    }
   ],
   "source": [
    "# Note that given the new components for class 1, the tuning returns a different\n",
    "# number of components than before for the rest of the classes i.e. 15 components\n",
    "svd_clf_2.best_num_of_bv"
   ]
  },
  {
   "cell_type": "markdown",
   "metadata": {},
   "source": [
    "## Optional Task 1"
   ]
  },
  {
   "cell_type": "markdown",
   "metadata": {},
   "source": [
    "The main functionality needed for this task, is included in the basic class and in particular in the `predict()` method, using the `two_stage` boolean parameter."
   ]
  },
  {
   "cell_type": "code",
   "execution_count": 20,
   "metadata": {},
   "outputs": [
    {
     "name": "stdout",
     "output_type": "stream",
     "text": [
      "For threshold=0.05, the second stage was unnecessary 71 % of the time.\n",
      "Weighted F1-Score using threshold 0.05: 0.91\n",
      "\n",
      "For threshold=0.1, the second stage was unnecessary 51 % of the time.\n",
      "Weighted F1-Score using threshold 0.1: 0.94\n",
      "\n",
      "For threshold=0.15, the second stage was unnecessary 36 % of the time.\n",
      "Weighted F1-Score using threshold 0.15: 0.94\n",
      "\n",
      "For threshold=0.2, the second stage was unnecessary 24 % of the time.\n",
      "Weighted F1-Score using threshold 0.2: 0.94\n",
      "\n"
     ]
    }
   ],
   "source": [
    "# try different values for the threshold of the difference of the two smallest norms\n",
    "thresholds = [0.05, 0.1, 0.15, 0.2] \n",
    "for thres in thresholds:\n",
    "    print(\"Weighted F1-Score using threshold {}: {:.2f}\\n\".format(thres, f1_score(y_true=y_test, \\\n",
    "                y_pred=svd_clf.predict(X_test=X_test, two_stage=True, thres_for_two_stage=thres),\n",
    "                average='weighted')))"
   ]
  }
 ],
 "metadata": {
  "kernelspec": {
   "display_name": "'Python Interactive'",
   "language": "python",
   "name": "19a79ea1-7fe9-41cb-af0e-b8db5ce61ca2"
  },
  "language_info": {
   "codemirror_mode": {
    "name": "ipython",
    "version": 3
   },
   "file_extension": ".py",
   "mimetype": "text/x-python",
   "name": "python",
   "nbconvert_exporter": "python",
   "pygments_lexer": "ipython3",
   "version": "3.5.6"
  }
 },
 "nbformat": 4,
 "nbformat_minor": 4
}
